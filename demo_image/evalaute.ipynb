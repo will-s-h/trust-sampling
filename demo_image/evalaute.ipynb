{
 "cells": [
  {
   "cell_type": "code",
   "execution_count": 1,
   "metadata": {},
   "outputs": [
    {
     "name": "stderr",
     "output_type": "stream",
     "text": [
      "/move/u/willsh/miniconda3/envs/diffusion/lib/python3.10/site-packages/torchvision/io/image.py:13: UserWarning: Failed to load image Python extension: '/move/u/willsh/miniconda3/envs/diffusion/lib/python3.10/site-packages/torchvision/image.so: undefined symbol: _ZN3c106detail23torchInternalAssertFailEPKcS2_jS2_RKSs'If you don't plan on using image functionality from `torchvision.io`, you can ignore this warning. Otherwise, there might be something wrong with your environment. Did you have `libjpeg` or `libpng` installed before building `torchvision` from source?\n",
      "  warn(\n"
     ]
    }
   ],
   "source": [
    "from pytorch_fid.fid_score import _willsh_calculate_fid_given_lists, calculate_fid_given_paths\n",
    "from pathlib import Path"
   ]
  },
  {
   "cell_type": "code",
   "execution_count": 2,
   "metadata": {},
   "outputs": [
    {
     "name": "stderr",
     "output_type": "stream",
     "text": [
      "100%|██████████| 2/2 [00:10<00:00,  5.28s/it]\n",
      "100%|██████████| 2/2 [00:01<00:00,  1.30it/s]\n",
      "100%|██████████| 1/1 [00:00<00:00,  4.56it/s]\n",
      "100%|██████████| 1/1 [00:00<00:00,  4.74it/s]\n",
      "100%|██████████| 2/2 [00:00<00:00,  4.25it/s]\n",
      "100%|██████████| 2/2 [00:01<00:00,  1.54it/s]\n",
      "100%|██████████| 1/1 [00:00<00:00,  4.95it/s]\n",
      "100%|██████████| 1/1 [00:00<00:00,  4.79it/s]\n",
      "100%|██████████| 2/2 [00:00<00:00,  3.64it/s]\n",
      "100%|██████████| 2/2 [00:01<00:00,  1.50it/s]\n",
      "100%|██████████| 1/1 [00:00<00:00,  3.80it/s]\n",
      "100%|██████████| 1/1 [00:00<00:00,  3.51it/s]\n",
      "100%|██████████| 2/2 [00:00<00:00,  4.23it/s]\n",
      "100%|██████████| 2/2 [00:03<00:00,  1.98s/it]\n",
      "100%|██████████| 1/1 [00:00<00:00,  4.81it/s]\n",
      "100%|██████████| 1/1 [00:00<00:00,  4.69it/s]\n",
      "100%|██████████| 2/2 [00:00<00:00,  4.15it/s]\n",
      "100%|██████████| 2/2 [00:03<00:00,  1.79s/it]\n",
      "100%|██████████| 1/1 [00:00<00:00,  5.07it/s]\n",
      "100%|██████████| 1/1 [00:00<00:00,  5.02it/s]\n",
      "100%|██████████| 2/2 [00:00<00:00,  4.31it/s]\n",
      "100%|██████████| 2/2 [00:00<00:00,  2.32it/s]\n",
      "100%|██████████| 1/1 [00:00<00:00,  5.31it/s]\n",
      "100%|██████████| 1/1 [00:00<00:00,  5.04it/s]\n",
      "100%|██████████| 2/2 [00:00<00:00,  4.48it/s]\n",
      "100%|██████████| 2/2 [00:00<00:00,  2.30it/s]\n",
      "100%|██████████| 1/1 [00:00<00:00,  5.33it/s]\n",
      "100%|██████████| 1/1 [00:00<00:00,  5.08it/s]\n",
      "100%|██████████| 2/2 [00:00<00:00,  4.23it/s]\n",
      "100%|██████████| 2/2 [00:00<00:00,  2.31it/s]\n",
      "100%|██████████| 1/1 [00:00<00:00,  5.40it/s]\n",
      "100%|██████████| 1/1 [00:00<00:00,  4.73it/s]\n",
      "100%|██████████| 2/2 [00:00<00:00,  4.25it/s]\n",
      "100%|██████████| 2/2 [00:00<00:00,  2.31it/s]\n",
      "100%|██████████| 1/1 [00:00<00:00,  5.17it/s]\n",
      "100%|██████████| 1/1 [00:00<00:00,  5.03it/s]\n",
      "100%|██████████| 2/2 [00:00<00:00,  4.39it/s]\n",
      "100%|██████████| 2/2 [00:00<00:00,  2.17it/s]\n",
      "100%|██████████| 1/1 [00:00<00:00,  4.77it/s]\n",
      "100%|██████████| 1/1 [00:00<00:00,  5.04it/s]\n"
     ]
    }
   ],
   "source": [
    "label_root = Path('/move/u/willsh/GitHub/trust-sampling/dataset/ffhq256-100')\n",
    "\n",
    "device = 'cuda:0'\n",
    "batch_size = 10\n",
    "overall_fids = []\n",
    "batch_fids = []\n",
    "\n",
    "recons = [\n",
    "    '/move/u/willsh/GitHub/trust-sampling/demo_image/new_ablation/SuperResolution/ffhq_trust_(440.5,4,1)',\n",
    "    '/move/u/willsh/GitHub/trust-sampling/demo_image/new_ablation/SuperResolution/ffhq_trust_(441.0,4,1)',\n",
    "    '/move/u/willsh/GitHub/trust-sampling/demo_image/new_ablation/SuperResolution/ffhq_trust_(441.5,4,1)',\n",
    "    '/move/u/willsh/GitHub/trust-sampling/demo_image/new_ablation/SuperResolution/ffhq_trust_(442.0,4,1)',\n",
    "    '/move/u/willsh/GitHub/trust-sampling/demo_image/new_ablation/SuperResolution/ffhq_trust_(999.0,4,1)',\n",
    "    '/move/u/willsh/GitHub/trust-sampling/demo_image/old plots/experiments/SuperResolution_ablation1/ffhq_trust_(438.0,5,1.0)',\n",
    "    '/move/u/willsh/GitHub/trust-sampling/demo_image/old plots/experiments/SuperResolution_ablation1/ffhq_trust_(439.0,5,1.0)',\n",
    "    '/move/u/willsh/GitHub/trust-sampling/demo_image/old plots/experiments/SuperResolution_ablation1/ffhq_trust_(440.0,1,1.0)',\n",
    "    '/move/u/willsh/GitHub/trust-sampling/demo_image/old plots/experiments/SuperResolution_ablation1/ffhq_trust_(440.0,3,1.0)',\n",
    "    '/move/u/willsh/GitHub/trust-sampling/demo_image/old plots/experiments/SuperResolution_ablation1/ffhq_trust_(440.0,5,1.0)'\n",
    "]\n",
    "\n",
    "for recon in recons:\n",
    "    recon_root = Path(recon)\n",
    "    files1 = sorted([file.as_posix() for file in label_root.iterdir() if file.is_file()])\n",
    "    files2 = sorted([file.as_posix() for file in recon_root.iterdir() if file.is_file()])\n",
    "    overall_fid = calculate_fid_given_paths([label_root.as_posix(), recon_root.as_posix()], 50, device, dims=2048)\n",
    "\n",
    "\n",
    "    for j in range(100 // batch_size):\n",
    "        files1_slice = files1[j*batch_size:(j+1)*batch_size]\n",
    "        files2_slice = files2[j*batch_size:(j+1)*batch_size]\n",
    "        batch_fid = _willsh_calculate_fid_given_lists([files1_slice, files2_slice], batch_size, device, dims=2048)\n",
    "        batch_fids.append(batch_fid)\n",
    "        overall_fids.append(overall_fid)\n",
    "        break"
   ]
  },
  {
   "cell_type": "code",
   "execution_count": 3,
   "metadata": {},
   "outputs": [],
   "source": [
    "import matplotlib.pyplot as plt"
   ]
  },
  {
   "cell_type": "code",
   "execution_count": 5,
   "metadata": {},
   "outputs": [
    {
     "data": {
      "image/png": "[encoded data removed]",
      "text/plain": [
       "<Figure size 640x480 with 1 Axes>"
      ]
     },
     "metadata": {},
     "output_type": "display_data"
    }
   ],
   "source": [
    "\n",
    "plt.xlabel(f'FID for Batch size {batch_size}')\n",
    "plt.ylabel(f'FID for 100 samples')\n",
    "plt.scatter(batch_fids, overall_fids)\n",
    "# plt.savefig('fidfirst10_fid100.png', dpi=300)\n",
    "plt.show()"
   ]
  },
  {
   "cell_type": "code",
   "execution_count": null,
   "metadata": {},
   "outputs": [],
   "source": []
  }
 ],
 "metadata": {
  "kernelspec": {
   "display_name": "diffusion",
   "language": "python",
   "name": "python3"
  },
  "language_info": {
   "codemirror_mode": {
    "name": "ipython",
    "version": 3
   },
   "file_extension": ".py",
   "mimetype": "text/x-python",
   "name": "python",
   "nbconvert_exporter": "python",
   "pygments_lexer": "ipython3",
   "version": "3.10.13"
  }
 },
 "nbformat": 4,
 "nbformat_minor": 2
}
